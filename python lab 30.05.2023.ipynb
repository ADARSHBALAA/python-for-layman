{
 "cells": [
  {
   "cell_type": "markdown",
   "id": "79389851",
   "metadata": {},
   "source": [
    "Q1- Assign a name to a variable and print it."
   ]
  },
  {
   "cell_type": "code",
   "execution_count": 2,
   "id": "e6bdac04",
   "metadata": {},
   "outputs": [
    {
     "name": "stdout",
     "output_type": "stream",
     "text": [
      "ADARSH BALAN\n"
     ]
    }
   ],
   "source": [
    "a='ADARSH BALAN'\n",
    "print(a)"
   ]
  },
  {
   "cell_type": "markdown",
   "id": "242b52cc",
   "metadata": {},
   "source": [
    "Q2- Create a variable starting with underscore and print it."
   ]
  },
  {
   "cell_type": "code",
   "execution_count": 3,
   "id": "db2b0495",
   "metadata": {},
   "outputs": [
    {
     "name": "stdout",
     "output_type": "stream",
     "text": [
      "9072457606\n"
     ]
    }
   ],
   "source": [
    "_aa=9072457606\n",
    "print(_aa)"
   ]
  },
  {
   "cell_type": "markdown",
   "id": "1b28e0e4",
   "metadata": {},
   "source": [
    "Q3 -Create variables x, y, z. Assign an integer value to x, float value to y and a string value to z.\n",
    "Print it."
   ]
  },
  {
   "cell_type": "code",
   "execution_count": 6,
   "id": "bc60913c",
   "metadata": {},
   "outputs": [],
   "source": [
    "x=8714131513\n",
    "y=5.5\n",
    "z='sangamithra'\n"
   ]
  },
  {
   "cell_type": "code",
   "execution_count": 18,
   "id": "3502f4e1",
   "metadata": {},
   "outputs": [
    {
     "name": "stdout",
     "output_type": "stream",
     "text": [
      "sangamithra \n",
      " 5.5 \n",
      " 8714131513\n"
     ]
    }
   ],
   "source": [
    "print(z,'\\n',y,'\\n',x)"
   ]
  },
  {
   "cell_type": "markdown",
   "id": "5e11f055",
   "metadata": {},
   "source": [
    "Q4- “Python is a popular programming language . I t was created by Guido Van Rossum and\n",
    "released in 1991.”- comment the sentence"
   ]
  },
  {
   "cell_type": "code",
   "execution_count": 8,
   "id": "bc3f838e",
   "metadata": {},
   "outputs": [],
   "source": [
    "#“Python is a popular programming language . I t was created by Guido Van Rossum and released in 1991.”- comment the sentence"
   ]
  },
  {
   "cell_type": "markdown",
   "id": "c152f35c",
   "metadata": {},
   "source": [
    "Q5- Assign value “orange” to any three variables."
   ]
  },
  {
   "cell_type": "code",
   "execution_count": 10,
   "id": "426a4e1c",
   "metadata": {},
   "outputs": [],
   "source": [
    "A=B=C='orange'"
   ]
  },
  {
   "cell_type": "code",
   "execution_count": 11,
   "id": "65771ee1",
   "metadata": {},
   "outputs": [
    {
     "name": "stdout",
     "output_type": "stream",
     "text": [
      "orange orange orange\n"
     ]
    }
   ],
   "source": [
    "print (A,B,C)"
   ]
  },
  {
   "cell_type": "markdown",
   "id": "758aabd9",
   "metadata": {},
   "source": [
    "Q6-Assign 3,4,5 to x, y, z"
   ]
  },
  {
   "cell_type": "code",
   "execution_count": 12,
   "id": "b9ba95f0",
   "metadata": {},
   "outputs": [
    {
     "name": "stdout",
     "output_type": "stream",
     "text": [
      "3 4 5\n"
     ]
    }
   ],
   "source": [
    "X,Y,Z=3,4,5\n",
    "print(X,Y,Z)"
   ]
  },
  {
   "cell_type": "markdown",
   "id": "3d9795e4",
   "metadata": {},
   "source": [
    "Q7- Create a variable named carname and assign the value Volvo to it."
   ]
  },
  {
   "cell_type": "code",
   "execution_count": 14,
   "id": "c6af8e99",
   "metadata": {},
   "outputs": [
    {
     "name": "stdout",
     "output_type": "stream",
     "text": [
      "volvo\n"
     ]
    }
   ],
   "source": [
    "car_name='volvo'\n",
    "print(car_name)"
   ]
  },
  {
   "cell_type": "markdown",
   "id": "e5fd66c7",
   "metadata": {},
   "source": [
    "Q8- Create a variable named x and assign the value 50 to it."
   ]
  },
  {
   "cell_type": "code",
   "execution_count": 15,
   "id": "f7678867",
   "metadata": {},
   "outputs": [
    {
     "name": "stdout",
     "output_type": "stream",
     "text": [
      "50\n"
     ]
    }
   ],
   "source": [
    "X=50\n",
    "print(X)"
   ]
  },
  {
   "cell_type": "markdown",
   "id": "3f5ff99d",
   "metadata": {},
   "source": [
    "Q9- Remove the illegal characters in the variable name. Then print it:\n",
    "\n",
    "2my-first_name = &quot;John&quot;"
   ]
  },
  {
   "cell_type": "code",
   "execution_count": 17,
   "id": "27746df4",
   "metadata": {},
   "outputs": [
    {
     "name": "stdout",
     "output_type": "stream",
     "text": [
      "John\n"
     ]
    }
   ],
   "source": [
    "my_first_name = \"John\"\n",
    "print(my_first_name)"
   ]
  },
  {
   "cell_type": "code",
   "execution_count": null,
   "id": "84cff6c4",
   "metadata": {},
   "outputs": [],
   "source": []
  }
 ],
 "metadata": {
  "kernelspec": {
   "display_name": "Python 3 (ipykernel)",
   "language": "python",
   "name": "python3"
  },
  "language_info": {
   "codemirror_mode": {
    "name": "ipython",
    "version": 3
   },
   "file_extension": ".py",
   "mimetype": "text/x-python",
   "name": "python",
   "nbconvert_exporter": "python",
   "pygments_lexer": "ipython3",
   "version": "3.9.13"
  }
 },
 "nbformat": 4,
 "nbformat_minor": 5
}

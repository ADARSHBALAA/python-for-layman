{
 "cells": [
  {
   "cell_type": "markdown",
   "id": "4fde1c7d",
   "metadata": {},
   "source": [
    "# <center> PYTHON BASIC PROGRAMMING"
   ]
  },
  {
   "cell_type": "code",
   "execution_count": null,
   "id": "036d5a83",
   "metadata": {},
   "outputs": [],
   "source": [
    "#to check whether number is ood or even\n",
    "\n",
    "\n",
    "x=int (input('enter the number'))\n",
    "if x%2==0:\n",
    "    print('number is even')\n",
    "else:\n",
    "       print ('number is odd')"
   ]
  },
  {
   "cell_type": "code",
   "execution_count": null,
   "id": "e9529ff7",
   "metadata": {},
   "outputs": [],
   "source": [
    "#write a program to check whether the person eligible for votting\n",
    "\n",
    "\n",
    "age=int(input('enter  age'))\n",
    "if age>=18:\n",
    "    print('eligible for votting')\n",
    "else:\n",
    "    print ('not eligible for votting')    "
   ]
  },
  {
   "cell_type": "code",
   "execution_count": null,
   "id": "3e026b7a",
   "metadata": {},
   "outputs": [],
   "source": [
    "#write a program to check whether the number is divisible by 7\n",
    "\n",
    "num= int(input('enter the number'))\n",
    "if num/7==0:\n",
    "    print('the number is divisible by 7')\n",
    "else:\n",
    "    print('the number is NOT divisible by 7')\n",
    "\n"
   ]
  },
  {
   "cell_type": "code",
   "execution_count": null,
   "id": "85e2017d",
   "metadata": {},
   "outputs": [],
   "source": [
    "#write a program to display HELLO if a number is enterd by user is a multiple of 5 otherwise print HI\n",
    "\n",
    "a= int(input('enter the number'))\n",
    "if a%5==0:\n",
    "    print('HELLO')\n",
    "else:\n",
    "    print('HI')"
   ]
  },
  {
   "cell_type": "code",
   "execution_count": null,
   "id": "bcd5d01c",
   "metadata": {},
   "outputs": [],
   "source": [
    "# write a program  to accept % from users and display the grade \n",
    "\n",
    "li=[]\n",
    "a= int(input('enter the mark of subject 01='))\n",
    "b= int(input('enter the mark of subject 02='))\n",
    "c= int(input('enter the mark of subject 03='))\n",
    "li.append(a)\n",
    "li.append(b)\n",
    "li.append(c)\n",
    "print(li)\n",
    "for n in li:\n",
    "    if n>=90:\n",
    "        print('grade A')\n",
    "    elif n>=80:\n",
    "        print('grade B')\n",
    "    elif n>=70:\n",
    "        print('grade c')\n",
    "    elif n<=60:\n",
    "        print('grade D FAIL')\n",
    "\n"
   ]
  },
  {
   "cell_type": "code",
   "execution_count": null,
   "id": "231084b2",
   "metadata": {},
   "outputs": [],
   "source": [
    "# print last digit of a number \n",
    "\n",
    "\n",
    "n= int(input('enter the number'))\n",
    "a=n%100\n",
    "print(a)"
   ]
  },
  {
   "cell_type": "code",
   "execution_count": 10,
   "id": "f7ce6809",
   "metadata": {},
   "outputs": [
    {
     "name": "stdout",
     "output_type": "stream",
     "text": [
      "enter the number5\n",
      "* \n",
      "* * \n",
      "* * * \n",
      "* * * * \n",
      "* * * * * \n"
     ]
    }
   ],
   "source": [
    "#-----------------create a pyramid using neasted loop\n",
    "\n",
    "\n",
    "n= int(input('enter the number'))\n",
    "for i in  range(1,n+1):\n",
    "    for j in range(i):\n",
    "        print(\"*\",end=\" \")\n",
    "    print()"
   ]
  },
  {
   "cell_type": "code",
   "execution_count": 13,
   "id": "5d65cfe2",
   "metadata": {},
   "outputs": [
    {
     "name": "stdout",
     "output_type": "stream",
     "text": [
      "enter the number69\n",
      "divisible by 3\n"
     ]
    }
   ],
   "source": [
    "#--------check whether the last digit of a number is divisible by 3\n",
    "\n",
    "n= int(input('enter the number'))\n",
    "a=n%10\n",
    "if a%3==0:\n",
    "    print('divisible by 3')\n",
    "else:\n",
    "    print('not divisible by 3')"
   ]
  },
  {
   "cell_type": "code",
   "execution_count": 18,
   "id": "7e962bdc",
   "metadata": {},
   "outputs": [
    {
     "name": "stdout",
     "output_type": "stream",
     "text": [
      "['MY', 'NAME', 'IS', 'ADARSH']\n"
     ]
    }
   ],
   "source": [
    "L1=['M','NA','I','ADA']\n",
    "L2=['Y','ME','S','RSH']\n",
    "a=[]\n",
    "for i in range(len(L1)):\n",
    "    b=L1[i]+L2[i]\n",
    "    a.append(b) \n",
    "print(a)"
   ]
  },
  {
   "cell_type": "code",
   "execution_count": 24,
   "id": "5a7abd32",
   "metadata": {},
   "outputs": [
    {
     "name": "stdout",
     "output_type": "stream",
     "text": [
      "['hello dear', 'hello sir', 'take dear', 'take sir']\n"
     ]
    }
   ],
   "source": [
    "a=[]\n",
    "l1=['hello','take']\n",
    "l2=['dear','sir']\n",
    "for i in l1:\n",
    "    for j in l2:\n",
    "        x=i+\" \"+j\n",
    "        a.append(x)\n",
    "print(a)"
   ]
  },
  {
   "cell_type": "code",
   "execution_count": null,
   "id": "8b7651cf",
   "metadata": {},
   "outputs": [],
   "source": []
  }
 ],
 "metadata": {
  "kernelspec": {
   "display_name": "Python 3 (ipykernel)",
   "language": "python",
   "name": "python3"
  },
  "language_info": {
   "codemirror_mode": {
    "name": "ipython",
    "version": 3
   },
   "file_extension": ".py",
   "mimetype": "text/x-python",
   "name": "python",
   "nbconvert_exporter": "python",
   "pygments_lexer": "ipython3",
   "version": "3.9.13"
  }
 },
 "nbformat": 4,
 "nbformat_minor": 5
}

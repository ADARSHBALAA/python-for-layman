{
 "cells": [
  {
   "attachments": {
    "PYTHON%20QS.png": {
     "image/png": "[encoded data removed]"
    }
   },
   "cell_type": "markdown",
   "id": "fbed6c98",
   "metadata": {},
   "source": [
    "![PYTHON%20QS.png](attachment:PYTHON%20QS.png)"
   ]
  },
  {
   "cell_type": "code",
   "execution_count": 8,
   "id": "d11c40c6",
   "metadata": {},
   "outputs": [
    {
     "name": "stdout",
     "output_type": "stream",
     "text": [
      "{1: 'aa', 2: 'bb', 3: 'cc'}\n"
     ]
    }
   ],
   "source": [
    "a={1:'aa',2:'bb'}\n",
    "a[3]=\"cc\"\n",
    "print(a)"
   ]
  },
  {
   "cell_type": "code",
   "execution_count": 9,
   "id": "ec787877",
   "metadata": {},
   "outputs": [
    {
     "name": "stdout",
     "output_type": "stream",
     "text": [
      "{'g': 2, 'o': 3, 'l': 1, 'e': 1, 'c': 1, 'm': 1}\n"
     ]
    }
   ],
   "source": [
    "#Q1:\n",
    "x=\"google.com\"\n",
    "d={}\n",
    "for i in x:\n",
    "    if i.isalpha():\n",
    "        d[i]=x.count(i)\n",
    "print(d)\n",
    "\n",
    "\n",
    "\n"
   ]
  },
  {
   "cell_type": "markdown",
   "id": "fad99bea",
   "metadata": {},
   "source": [
    "Q2 Write a Python program to get a string made of the first 2 and last 2 characters of a\n",
    "\n",
    "given string. If the string length is less than 2, return the empty string instead.\n",
    "\n",
    "Sample String : &#39;w3resource&#39;\n",
    "\n",
    "Expected Result : &#39;w3ce&#39;\n",
    "\n",
    "Sample String : &#39;w3&#39;\n",
    "\n",
    "Expected Result : &#39;w3w3&#39;\n",
    "\n",
    "Sample String : &#39; w&#39;\n",
    "\n",
    "Expected Result : Empty String\n"
   ]
  },
  {
   "cell_type": "code",
   "execution_count": null,
   "id": "cec69d76",
   "metadata": {},
   "outputs": [],
   "source": [
    "#Q2:\n",
    "str1=input(\"Enter a sting\")\n",
    "l=len(str1)\n",
    "if l<2:\n",
    "    print(\"Empty string\")\n",
    "else:\n",
    "    a=str1[0]\n",
    "    b=str1[1]\n",
    "    c=str1[-2]\n",
    "    d=str1[-1]\n",
    "print(a+b+c+d)"
   ]
  },
  {
   "cell_type": "raw",
   "id": "e313af81",
   "metadata": {},
   "source": []
  },
  {
   "cell_type": "markdown",
   "id": "bfa9e916",
   "metadata": {},
   "source": [
    "Q3. Write a Python program to get a string from a given string where all occurrences of its\n",
    "first char have been changed to &#39;$&#39;, except the first char itself.\n",
    "\n",
    "Sample String : &#39;restart&#39;\n",
    "    \n",
    "Expected Result : &#39;resta$t&#39;\n",
    "    "
   ]
  },
  {
   "cell_type": "code",
   "execution_count": null,
   "id": "8adfc0be",
   "metadata": {
    "scrolled": true
   },
   "outputs": [],
   "source": [
    "#Q3:\n",
    "str1=input(\"Enter a string \\n\")\n",
    "str2=str1[0]\n",
    "i=1\n",
    "while i<=len(str1)-1:\n",
    "    if str1[i]==str1[0]:\n",
    "        str2+='$'\n",
    "    else:\n",
    "        str2+=str1[i]\n",
    "    i+=1\n",
    "print(str2)"
   ]
  },
  {
   "cell_type": "code",
   "execution_count": null,
   "id": "30173aaa",
   "metadata": {},
   "outputs": [],
   "source": [
    "str1=input('entr')\n",
    "str2=str1[0]\n",
    "i=1\n",
    "while i<=len(str1)-1:\n",
    "    if str1[i]==str1[0]:\n",
    "        str2+='$'\n",
    "    else:\n",
    "        str2+=str1[i]\n",
    "    i+=1\n",
    "print(str2)    "
   ]
  },
  {
   "cell_type": "markdown",
   "id": "2ce8c36d",
   "metadata": {},
   "source": [
    "q4   \n",
    "Write a Python program to get a single string from two given strings, separated by a\n",
    "\n",
    "space and swap the first two characters of each string.\n",
    "\n",
    "Sample String : &#39;abc&#39;, &#39;xyz&#39;\n",
    "\n",
    "Expected Result : &#39;xyc abz&#39;\n"
   ]
  },
  {
   "cell_type": "code",
   "execution_count": null,
   "id": "6f960976",
   "metadata": {},
   "outputs": [],
   "source": [
    "#Q4:\n",
    "s1=input(\"Enter string-1 \\n\")\n",
    "s2=input(\"Enter string-2 \\n\")\n",
    "s3=\"\"\n",
    "for i in range(len(s1)):\n",
    "    if i<2:\n",
    "        s3+=s2[i]\n",
    "    else:\n",
    "        s3+=s1[i]\n",
    "s3+=\" \"\n",
    "for i in range(len(s2)):\n",
    "    if i<2:\n",
    "        s3+=s1[i]\n",
    "    else:\n",
    "        s3+=s2[i]    \n",
    "print(s3)\n",
    "\n",
    "#xyz abc\n"
   ]
  },
  {
   "cell_type": "markdown",
   "id": "6789ccb4",
   "metadata": {},
   "source": [
    "Write a Python program to add &#39;ing&#39; at the end of a given string (length should be at\n",
    "least 3). If the given string already ends with &#39;ing&#39;, add &#39;ly&#39; instead. If the string length\n",
    "of the given string is less than 3, leave it unchanged."
   ]
  },
  {
   "cell_type": "code",
   "execution_count": 3,
   "id": "bc80e3f3",
   "metadata": {},
   "outputs": [
    {
     "name": "stdout",
     "output_type": "stream",
     "text": [
      "Enter a string \n",
      "ad\n",
      "String is  ad\n"
     ]
    }
   ],
   "source": [
    "#Q5:\n",
    "s=input(\"Enter a string \\n\")\n",
    "x=0\n",
    "if len(s)<3:\n",
    "    print(\"String is \",s)\n",
    "elif s.endswith(\"ing\"):\n",
    "    s+='ly'\n",
    "    print(s)\n",
    "else:\n",
    "    s+=\"ing\"\n",
    "    print(s)\n",
    "    "
   ]
  },
  {
   "cell_type": "code",
   "execution_count": null,
   "id": "748ccf19",
   "metadata": {},
   "outputs": [],
   "source": [
    "#Q7\n",
    "s=input(\"Enter a string \\n\")\n",
    "f=s[0]\n",
    "l=s[-1]\n",
    "n=\"\"\n",
    "n+=l\n",
    "length=len(s)\n",
    "i=1\n",
    "while i<length-1:\n",
    "    n+=s[i]\n",
    "    i+=1\n",
    "n+=f\n",
    "print(n)"
   ]
  },
  {
   "cell_type": "code",
   "execution_count": null,
   "id": "eda77508",
   "metadata": {},
   "outputs": [],
   "source": [
    "#Q8\n",
    "s=list(input(\"Enter a string \\n\"))\n",
    "length=len(s)\n",
    "for i in range(1,length,2):\n",
    "    print(i)\n",
    "    \n"
   ]
  },
  {
   "cell_type": "code",
   "execution_count": null,
   "id": "e23ced82",
   "metadata": {},
   "outputs": [],
   "source": [
    "l=['s','f','g','r','k']\n",
    "#for i in range(1,len(l),2):\n",
    "l.pop(1)\n",
    "print(len(l))\n",
    "l.pop(1)\n",
    "print(len(l))"
   ]
  },
  {
   "cell_type": "code",
   "execution_count": null,
   "id": "40a6be5c",
   "metadata": {},
   "outputs": [],
   "source": [
    "#Q9\n",
    "s=input(\"Enter a string \\n\")\n",
    "print(s.upper())\n",
    "print(s.lower())"
   ]
  },
  {
   "cell_type": "code",
   "execution_count": null,
   "id": "71002968",
   "metadata": {},
   "outputs": [],
   "source": [
    "#Q10:\n",
    "s=input(\"enter a string \\n\")\n",
    "if len(s)<=2:\n",
    "    print(s*4)\n",
    "else:\n",
    "    x=s[-2:]\n",
    "    print(x*4)"
   ]
  },
  {
   "cell_type": "markdown",
   "id": "a0674939",
   "metadata": {},
   "source": []
  },
  {
   "cell_type": "code",
   "execution_count": null,
   "id": "bc8c27bb",
   "metadata": {},
   "outputs": [],
   "source": []
  },
  {
   "cell_type": "code",
   "execution_count": null,
   "id": "d0a893de",
   "metadata": {},
   "outputs": [],
   "source": []
  },
  {
   "cell_type": "code",
   "execution_count": null,
   "id": "cd59f0f0",
   "metadata": {},
   "outputs": [],
   "source": []
  },
  {
   "cell_type": "code",
   "execution_count": null,
   "id": "6bf4ef18",
   "metadata": {},
   "outputs": [],
   "source": [
    "\n"
   ]
  }
 ],
 "metadata": {
  "kernelspec": {
   "display_name": "Python 3 (ipykernel)",
   "language": "python",
   "name": "python3"
  },
  "language_info": {
   "codemirror_mode": {
    "name": "ipython",
    "version": 3
   },
   "file_extension": ".py",
   "mimetype": "text/x-python",
   "name": "python",
   "nbconvert_exporter": "python",
   "pygments_lexer": "ipython3",
   "version": "3.10.9"
  }
 },
 "nbformat": 4,
 "nbformat_minor": 5
}
